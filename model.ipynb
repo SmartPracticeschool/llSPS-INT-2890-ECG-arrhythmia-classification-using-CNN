{
 "cells": [
  {
   "cell_type": "code",
   "execution_count": 1,
   "metadata": {},
   "outputs": [
    {
     "name": "stderr",
     "output_type": "stream",
     "text": [
      "Using TensorFlow backend.\n",
      "C:\\anaconda3\\lib\\site-packages\\tensorflow\\python\\framework\\dtypes.py:516: FutureWarning: Passing (type, 1) or '1type' as a synonym of type is deprecated; in a future version of numpy, it will be understood as (type, (1,)) / '(1,)type'.\n",
      "  _np_qint8 = np.dtype([(\"qint8\", np.int8, 1)])\n",
      "C:\\anaconda3\\lib\\site-packages\\tensorflow\\python\\framework\\dtypes.py:517: FutureWarning: Passing (type, 1) or '1type' as a synonym of type is deprecated; in a future version of numpy, it will be understood as (type, (1,)) / '(1,)type'.\n",
      "  _np_quint8 = np.dtype([(\"quint8\", np.uint8, 1)])\n",
      "C:\\anaconda3\\lib\\site-packages\\tensorflow\\python\\framework\\dtypes.py:518: FutureWarning: Passing (type, 1) or '1type' as a synonym of type is deprecated; in a future version of numpy, it will be understood as (type, (1,)) / '(1,)type'.\n",
      "  _np_qint16 = np.dtype([(\"qint16\", np.int16, 1)])\n",
      "C:\\anaconda3\\lib\\site-packages\\tensorflow\\python\\framework\\dtypes.py:519: FutureWarning: Passing (type, 1) or '1type' as a synonym of type is deprecated; in a future version of numpy, it will be understood as (type, (1,)) / '(1,)type'.\n",
      "  _np_quint16 = np.dtype([(\"quint16\", np.uint16, 1)])\n",
      "C:\\anaconda3\\lib\\site-packages\\tensorflow\\python\\framework\\dtypes.py:520: FutureWarning: Passing (type, 1) or '1type' as a synonym of type is deprecated; in a future version of numpy, it will be understood as (type, (1,)) / '(1,)type'.\n",
      "  _np_qint32 = np.dtype([(\"qint32\", np.int32, 1)])\n",
      "C:\\anaconda3\\lib\\site-packages\\tensorflow\\python\\framework\\dtypes.py:525: FutureWarning: Passing (type, 1) or '1type' as a synonym of type is deprecated; in a future version of numpy, it will be understood as (type, (1,)) / '(1,)type'.\n",
      "  np_resource = np.dtype([(\"resource\", np.ubyte, 1)])\n",
      "C:\\anaconda3\\lib\\site-packages\\tensorboard\\compat\\tensorflow_stub\\dtypes.py:541: FutureWarning: Passing (type, 1) or '1type' as a synonym of type is deprecated; in a future version of numpy, it will be understood as (type, (1,)) / '(1,)type'.\n",
      "  _np_qint8 = np.dtype([(\"qint8\", np.int8, 1)])\n",
      "C:\\anaconda3\\lib\\site-packages\\tensorboard\\compat\\tensorflow_stub\\dtypes.py:542: FutureWarning: Passing (type, 1) or '1type' as a synonym of type is deprecated; in a future version of numpy, it will be understood as (type, (1,)) / '(1,)type'.\n",
      "  _np_quint8 = np.dtype([(\"quint8\", np.uint8, 1)])\n",
      "C:\\anaconda3\\lib\\site-packages\\tensorboard\\compat\\tensorflow_stub\\dtypes.py:543: FutureWarning: Passing (type, 1) or '1type' as a synonym of type is deprecated; in a future version of numpy, it will be understood as (type, (1,)) / '(1,)type'.\n",
      "  _np_qint16 = np.dtype([(\"qint16\", np.int16, 1)])\n",
      "C:\\anaconda3\\lib\\site-packages\\tensorboard\\compat\\tensorflow_stub\\dtypes.py:544: FutureWarning: Passing (type, 1) or '1type' as a synonym of type is deprecated; in a future version of numpy, it will be understood as (type, (1,)) / '(1,)type'.\n",
      "  _np_quint16 = np.dtype([(\"quint16\", np.uint16, 1)])\n",
      "C:\\anaconda3\\lib\\site-packages\\tensorboard\\compat\\tensorflow_stub\\dtypes.py:545: FutureWarning: Passing (type, 1) or '1type' as a synonym of type is deprecated; in a future version of numpy, it will be understood as (type, (1,)) / '(1,)type'.\n",
      "  _np_qint32 = np.dtype([(\"qint32\", np.int32, 1)])\n",
      "C:\\anaconda3\\lib\\site-packages\\tensorboard\\compat\\tensorflow_stub\\dtypes.py:550: FutureWarning: Passing (type, 1) or '1type' as a synonym of type is deprecated; in a future version of numpy, it will be understood as (type, (1,)) / '(1,)type'.\n",
      "  np_resource = np.dtype([(\"resource\", np.ubyte, 1)])\n"
     ]
    }
   ],
   "source": [
    "from keras.models import Sequential\n",
    "from keras.layers import Dense\n",
    "from keras.layers import Conv2D\n",
    "from keras.layers import MaxPooling2D\n",
    "from keras.layers import Flatten"
   ]
  },
  {
   "cell_type": "code",
   "execution_count": 2,
   "metadata": {},
   "outputs": [],
   "source": [
    "model=Sequential()"
   ]
  },
  {
   "cell_type": "markdown",
   "metadata": {},
   "source": [
    "\n"
   ]
  },
  {
   "cell_type": "code",
   "execution_count": 3,
   "metadata": {},
   "outputs": [
    {
     "name": "stderr",
     "output_type": "stream",
     "text": [
      "C:\\anaconda3\\lib\\site-packages\\ipykernel_launcher.py:1: UserWarning: Update your `Conv2D` call to the Keras 2 API: `Conv2D(32, (3, 3), input_shape=(64, 64, 3..., activation=\"relu\")`\n",
      "  \"\"\"Entry point for launching an IPython kernel.\n"
     ]
    }
   ],
   "source": [
    "model.add(Conv2D(32,3,3,input_shape=(64,64,3),activation='relu'))"
   ]
  },
  {
   "cell_type": "code",
   "execution_count": 7,
   "metadata": {},
   "outputs": [
    {
     "name": "stderr",
     "output_type": "stream",
     "text": [
      "C:\\anaconda3\\lib\\site-packages\\ipykernel_launcher.py:1: UserWarning: Update your `Conv2D` call to the Keras 2 API: `Conv2D(32, (3, 3), input_shape=(64, 64, 3..., activation=\"relu\")`\n",
      "  \"\"\"Entry point for launching an IPython kernel.\n"
     ]
    }
   ],
   "source": [
    "model.add(Conv2D(32,3,3,input_shape=(64,64,3),activation='relu'))"
   ]
  },
  {
   "cell_type": "markdown",
   "metadata": {},
   "source": []
  },
  {
   "cell_type": "code",
   "execution_count": 8,
   "metadata": {},
   "outputs": [
    {
     "name": "stdout",
     "output_type": "stream",
     "text": [
      "WARNING:tensorflow:From C:\\anaconda3\\lib\\site-packages\\keras\\backend\\tensorflow_backend.py:4070: The name tf.nn.max_pool is deprecated. Please use tf.nn.max_pool2d instead.\n",
      "\n"
     ]
    }
   ],
   "source": [
    " model.add(MaxPooling2D(pool_size=(2,2)))"
   ]
  },
  {
   "cell_type": "code",
   "execution_count": 9,
   "metadata": {},
   "outputs": [],
   "source": [
    "model.add(Flatten())"
   ]
  },
  {
   "cell_type": "code",
   "execution_count": 10,
   "metadata": {},
   "outputs": [
    {
     "name": "stdout",
     "output_type": "stream",
     "text": [
      "Model: \"sequential_1\"\n",
      "_________________________________________________________________\n",
      "Layer (type)                 Output Shape              Param #   \n",
      "=================================================================\n",
      "conv2d_1 (Conv2D)            (None, 62, 62, 32)        896       \n",
      "_________________________________________________________________\n",
      "conv2d_2 (Conv2D)            (None, 60, 60, 32)        9248      \n",
      "_________________________________________________________________\n",
      "max_pooling2d_1 (MaxPooling2 (None, 30, 30, 32)        0         \n",
      "_________________________________________________________________\n",
      "flatten_1 (Flatten)          (None, 28800)             0         \n",
      "=================================================================\n",
      "Total params: 10,144\n",
      "Trainable params: 10,144\n",
      "Non-trainable params: 0\n",
      "_________________________________________________________________\n"
     ]
    }
   ],
   "source": [
    "model.summary()"
   ]
  },
  {
   "cell_type": "code",
   "execution_count": 11,
   "metadata": {},
   "outputs": [
    {
     "name": "stderr",
     "output_type": "stream",
     "text": [
      "C:\\anaconda3\\lib\\site-packages\\ipykernel_launcher.py:1: UserWarning: Update your `Dense` call to the Keras 2 API: `Dense(activation=\"relu\", units=300, kernel_initializer=\"uniform\")`\n",
      "  \"\"\"Entry point for launching an IPython kernel.\n"
     ]
    }
   ],
   "source": [
    "model.add(Dense(init='uniform',activation='relu',units=300))"
   ]
  },
  {
   "cell_type": "code",
   "execution_count": 12,
   "metadata": {},
   "outputs": [
    {
     "name": "stderr",
     "output_type": "stream",
     "text": [
      "C:\\anaconda3\\lib\\site-packages\\ipykernel_launcher.py:1: UserWarning: Update your `Dense` call to the Keras 2 API: `Dense(activation=\"relu\", units=300, kernel_initializer=\"uniform\")`\n",
      "  \"\"\"Entry point for launching an IPython kernel.\n"
     ]
    }
   ],
   "source": [
    "model.add(Dense(init='uniform',activation='relu',units=300))"
   ]
  },
  {
   "cell_type": "code",
   "execution_count": 13,
   "metadata": {},
   "outputs": [
    {
     "name": "stderr",
     "output_type": "stream",
     "text": [
      "C:\\anaconda3\\lib\\site-packages\\ipykernel_launcher.py:1: UserWarning: Update your `Dense` call to the Keras 2 API: `Dense(activation=\"relu\", units=300, kernel_initializer=\"uniform\")`\n",
      "  \"\"\"Entry point for launching an IPython kernel.\n"
     ]
    }
   ],
   "source": [
    "\n",
    "model.add(Dense(init='uniform',activation='relu',units=300))"
   ]
  },
  {
   "cell_type": "code",
   "execution_count": 14,
   "metadata": {},
   "outputs": [
    {
     "name": "stderr",
     "output_type": "stream",
     "text": [
      "C:\\anaconda3\\lib\\site-packages\\ipykernel_launcher.py:1: UserWarning: Update your `Dense` call to the Keras 2 API: `Dense(units=6, activation=\"sigmoid\", kernel_initializer=\"uniform\")`\n",
      "  \"\"\"Entry point for launching an IPython kernel.\n"
     ]
    }
   ],
   "source": [
    "\n",
    "model.add(Dense(init='uniform',units=6,activation='sigmoid'))"
   ]
  },
  {
   "cell_type": "code",
   "execution_count": 15,
   "metadata": {
    "scrolled": true
   },
   "outputs": [
    {
     "name": "stdout",
     "output_type": "stream",
     "text": [
      "Model: \"sequential_1\"\n",
      "_________________________________________________________________\n",
      "Layer (type)                 Output Shape              Param #   \n",
      "=================================================================\n",
      "conv2d_1 (Conv2D)            (None, 62, 62, 32)        896       \n",
      "_________________________________________________________________\n",
      "conv2d_2 (Conv2D)            (None, 60, 60, 32)        9248      \n",
      "_________________________________________________________________\n",
      "max_pooling2d_1 (MaxPooling2 (None, 30, 30, 32)        0         \n",
      "_________________________________________________________________\n",
      "flatten_1 (Flatten)          (None, 28800)             0         \n",
      "_________________________________________________________________\n",
      "dense_1 (Dense)              (None, 300)               8640300   \n",
      "_________________________________________________________________\n",
      "dense_2 (Dense)              (None, 300)               90300     \n",
      "_________________________________________________________________\n",
      "dense_3 (Dense)              (None, 300)               90300     \n",
      "_________________________________________________________________\n",
      "dense_4 (Dense)              (None, 6)                 1806      \n",
      "=================================================================\n",
      "Total params: 8,832,850\n",
      "Trainable params: 8,832,850\n",
      "Non-trainable params: 0\n",
      "_________________________________________________________________\n"
     ]
    }
   ],
   "source": [
    "model.summary()"
   ]
  },
  {
   "cell_type": "code",
   "execution_count": 16,
   "metadata": {},
   "outputs": [],
   "source": [
    "model.compile(optimizer='adam',loss='categorical_crossentropy',metrics=['accuracy'])"
   ]
  },
  {
   "cell_type": "code",
   "execution_count": 17,
   "metadata": {},
   "outputs": [],
   "source": [
    "from keras.preprocessing.image import ImageDataGenerator"
   ]
  },
  {
   "cell_type": "code",
   "execution_count": 18,
   "metadata": {},
   "outputs": [],
   "source": [
    "train_datagen=ImageDataGenerator(rescale=1./255,shear_range=0.2,zoom_range=0.2,horizontal_flip=True)"
   ]
  },
  {
   "cell_type": "code",
   "execution_count": 19,
   "metadata": {},
   "outputs": [],
   "source": [
    "test_datagen=ImageDataGenerator(rescale=1./255)"
   ]
  },
  {
   "cell_type": "code",
   "execution_count": 20,
   "metadata": {},
   "outputs": [
    {
     "name": "stdout",
     "output_type": "stream",
     "text": [
      "Found 15341 images belonging to 6 classes.\n",
      "Found 6825 images belonging to 6 classes.\n"
     ]
    }
   ],
   "source": [
    "x_train=train_datagen.flow_from_directory(r'C:\\Users\\rohit\\Desktop\\data\\train',target_size=(64,64),batch_size=32,class_mode='categorical')\n",
    "x_test=test_datagen.flow_from_directory(r'C:\\Users\\rohit\\Desktop\\data\\test',target_size=(64,64),batch_size=32,class_mode='categorical')"
   ]
  },
  {
   "cell_type": "code",
   "execution_count": 21,
   "metadata": {},
   "outputs": [
    {
     "name": "stdout",
     "output_type": "stream",
     "text": [
      "{'Left Bundle Branch Block': 0, 'Normal': 1, 'Premature Atrial Contraction': 2, 'Premature Ventricular Contractions': 3, 'Right Bundle Branch Block': 4, 'Ventricular Fibrillation': 5}\n"
     ]
    }
   ],
   "source": [
    "print(x_train.class_indices)"
   ]
  },
  {
   "cell_type": "code",
   "execution_count": 22,
   "metadata": {},
   "outputs": [
    {
     "name": "stderr",
     "output_type": "stream",
     "text": [
      "C:\\anaconda3\\lib\\site-packages\\ipykernel_launcher.py:1: UserWarning: The semantics of the Keras 2 argument `steps_per_epoch` is not the same as the Keras 1 argument `samples_per_epoch`. `steps_per_epoch` is the number of batches to draw from the generator at each epoch. Basically steps_per_epoch = samples_per_epoch/batch_size. Similarly `nb_val_samples`->`validation_steps` and `val_samples`->`steps` arguments have changed. Update your method calls accordingly.\n",
      "  \"\"\"Entry point for launching an IPython kernel.\n",
      "C:\\anaconda3\\lib\\site-packages\\ipykernel_launcher.py:1: UserWarning: Update your `fit_generator` call to the Keras 2 API: `fit_generator(<keras.pre..., epochs=100, validation_data=<keras.pre..., steps_per_epoch=15, validation_steps=220)`\n",
      "  \"\"\"Entry point for launching an IPython kernel.\n"
     ]
    },
    {
     "name": "stdout",
     "output_type": "stream",
     "text": [
      "WARNING:tensorflow:From C:\\anaconda3\\lib\\site-packages\\tensorflow\\python\\ops\\math_grad.py:1250: add_dispatch_support.<locals>.wrapper (from tensorflow.python.ops.array_ops) is deprecated and will be removed in a future version.\n",
      "Instructions for updating:\n",
      "Use tf.where in 2.0, which has the same broadcast rule as np.where\n",
      "WARNING:tensorflow:From C:\\anaconda3\\lib\\site-packages\\keras\\backend\\tensorflow_backend.py:422: The name tf.global_variables is deprecated. Please use tf.compat.v1.global_variables instead.\n",
      "\n",
      "Epoch 1/100\n",
      "15/15 [==============================] - 138s 9s/step - loss: 1.6169 - accuracy: 0.4042 - val_loss: 1.6474 - val_accuracy: 0.3194\n",
      "Epoch 2/100\n",
      "15/15 [==============================] - 23s 2s/step - loss: 1.4857 - accuracy: 0.4938 - val_loss: 1.8257 - val_accuracy: 0.3201\n",
      "Epoch 3/100\n",
      "15/15 [==============================] - 22s 1s/step - loss: 1.4152 - accuracy: 0.5167 - val_loss: 1.6734 - val_accuracy: 0.3195\n",
      "Epoch 4/100\n",
      "15/15 [==============================] - 22s 1s/step - loss: 1.4067 - accuracy: 0.5042 - val_loss: 1.8398 - val_accuracy: 0.3194\n",
      "Epoch 5/100\n",
      "15/15 [==============================] - 22s 1s/step - loss: 1.4271 - accuracy: 0.5042 - val_loss: 1.5492 - val_accuracy: 0.3204\n",
      "Epoch 6/100\n",
      "15/15 [==============================] - 25s 2s/step - loss: 1.4138 - accuracy: 0.4875 - val_loss: 1.4672 - val_accuracy: 0.3158\n",
      "Epoch 7/100\n",
      "15/15 [==============================] - 26s 2s/step - loss: 1.4414 - accuracy: 0.4667 - val_loss: 2.1470 - val_accuracy: 0.3191\n",
      "Epoch 8/100\n",
      "15/15 [==============================] - 24s 2s/step - loss: 1.3334 - accuracy: 0.5521 - val_loss: 1.5985 - val_accuracy: 0.3169\n",
      "Epoch 9/100\n",
      "15/15 [==============================] - 25s 2s/step - loss: 1.5202 - accuracy: 0.4479 - val_loss: 1.5780 - val_accuracy: 0.3242\n",
      "Epoch 10/100\n",
      "15/15 [==============================] - 22s 1s/step - loss: 1.4160 - accuracy: 0.4833 - val_loss: 1.5875 - val_accuracy: 0.3171\n",
      "Epoch 11/100\n",
      "15/15 [==============================] - 22s 1s/step - loss: 1.4747 - accuracy: 0.4500 - val_loss: 1.5699 - val_accuracy: 0.3242\n",
      "Epoch 12/100\n",
      "15/15 [==============================] - 25s 2s/step - loss: 1.3992 - accuracy: 0.4979 - val_loss: 1.6686 - val_accuracy: 0.3189\n",
      "Epoch 13/100\n",
      "15/15 [==============================] - 24s 2s/step - loss: 1.3915 - accuracy: 0.5021 - val_loss: 1.6966 - val_accuracy: 0.3161\n",
      "Epoch 14/100\n",
      "15/15 [==============================] - 22s 1s/step - loss: 1.3988 - accuracy: 0.4583 - val_loss: 1.6626 - val_accuracy: 0.3178\n",
      "Epoch 15/100\n",
      "15/15 [==============================] - 22s 1s/step - loss: 1.2789 - accuracy: 0.4688 - val_loss: 1.3029 - val_accuracy: 0.3219\n",
      "Epoch 16/100\n",
      "15/15 [==============================] - 23s 2s/step - loss: 1.1676 - accuracy: 0.4708 - val_loss: 1.2196 - val_accuracy: 0.3990\n",
      "Epoch 17/100\n",
      "15/15 [==============================] - 23s 2s/step - loss: 1.0187 - accuracy: 0.6167 - val_loss: 1.3458 - val_accuracy: 0.4043\n",
      "Epoch 18/100\n",
      "15/15 [==============================] - 23s 2s/step - loss: 1.0221 - accuracy: 0.5938 - val_loss: 1.4552 - val_accuracy: 0.3906\n",
      "Epoch 19/100\n",
      "15/15 [==============================] - 22s 1s/step - loss: 1.0625 - accuracy: 0.5917 - val_loss: 0.9354 - val_accuracy: 0.4315\n",
      "Epoch 20/100\n",
      "15/15 [==============================] - 23s 2s/step - loss: 1.0160 - accuracy: 0.5771 - val_loss: 1.3079 - val_accuracy: 0.4723\n",
      "Epoch 21/100\n",
      "15/15 [==============================] - 24s 2s/step - loss: 0.9295 - accuracy: 0.6750 - val_loss: 1.4190 - val_accuracy: 0.4335\n",
      "Epoch 22/100\n",
      "15/15 [==============================] - 26s 2s/step - loss: 0.8123 - accuracy: 0.6375 - val_loss: 0.8790 - val_accuracy: 0.5400\n",
      "Epoch 23/100\n",
      "15/15 [==============================] - 25s 2s/step - loss: 0.7212 - accuracy: 0.7521 - val_loss: 0.8030 - val_accuracy: 0.6973\n",
      "Epoch 24/100\n",
      "15/15 [==============================] - 25s 2s/step - loss: 0.5402 - accuracy: 0.8091 - val_loss: 0.7316 - val_accuracy: 0.6879\n",
      "Epoch 25/100\n",
      "15/15 [==============================] - 24s 2s/step - loss: 0.5567 - accuracy: 0.8125 - val_loss: 1.5679 - val_accuracy: 0.6972\n",
      "Epoch 26/100\n",
      "15/15 [==============================] - 25s 2s/step - loss: 0.4870 - accuracy: 0.8375 - val_loss: 0.9048 - val_accuracy: 0.7161\n",
      "Epoch 27/100\n",
      "15/15 [==============================] - 24s 2s/step - loss: 0.6330 - accuracy: 0.7937 - val_loss: 1.0870 - val_accuracy: 0.6323\n",
      "Epoch 28/100\n",
      "15/15 [==============================] - 22s 1s/step - loss: 0.4814 - accuracy: 0.8271 - val_loss: 1.5197 - val_accuracy: 0.6994\n",
      "Epoch 29/100\n",
      "15/15 [==============================] - 23s 2s/step - loss: 0.4589 - accuracy: 0.8458 - val_loss: 0.9709 - val_accuracy: 0.7670\n",
      "Epoch 30/100\n",
      "15/15 [==============================] - 23s 2s/step - loss: 0.4257 - accuracy: 0.8562 - val_loss: 0.7140 - val_accuracy: 0.7842\n",
      "Epoch 31/100\n",
      "15/15 [==============================] - 23s 2s/step - loss: 0.6242 - accuracy: 0.8229 - val_loss: 0.5659 - val_accuracy: 0.7345\n",
      "Epoch 32/100\n",
      "15/15 [==============================] - 23s 2s/step - loss: 0.4537 - accuracy: 0.8625 - val_loss: 0.4473 - val_accuracy: 0.7855\n",
      "Epoch 33/100\n",
      "15/15 [==============================] - 23s 2s/step - loss: 0.3425 - accuracy: 0.8896 - val_loss: 1.4687 - val_accuracy: 0.7777\n",
      "Epoch 34/100\n",
      "15/15 [==============================] - 22s 1s/step - loss: 0.3370 - accuracy: 0.8896 - val_loss: 0.7908 - val_accuracy: 0.7985\n",
      "Epoch 35/100\n",
      "15/15 [==============================] - 25s 2s/step - loss: 0.2712 - accuracy: 0.9083 - val_loss: 0.8474 - val_accuracy: 0.7982\n",
      "Epoch 36/100\n",
      "15/15 [==============================] - 24s 2s/step - loss: 0.2769 - accuracy: 0.9042 - val_loss: 0.8652 - val_accuracy: 0.8450\n",
      "Epoch 37/100\n",
      "15/15 [==============================] - 25s 2s/step - loss: 0.2662 - accuracy: 0.9146 - val_loss: 0.6016 - val_accuracy: 0.8239\n",
      "Epoch 38/100\n",
      "15/15 [==============================] - 26s 2s/step - loss: 0.2310 - accuracy: 0.9262 - val_loss: 0.8880 - val_accuracy: 0.8127\n",
      "Epoch 39/100\n",
      "15/15 [==============================] - 24s 2s/step - loss: 0.2104 - accuracy: 0.9333 - val_loss: 0.4598 - val_accuracy: 0.8368\n",
      "Epoch 40/100\n",
      "15/15 [==============================] - 23s 2s/step - loss: 0.3026 - accuracy: 0.9000 - val_loss: 0.3546 - val_accuracy: 0.8280\n",
      "Epoch 41/100\n",
      "15/15 [==============================] - 23s 2s/step - loss: 0.2259 - accuracy: 0.9396 - val_loss: 0.3029 - val_accuracy: 0.8401\n",
      "Epoch 42/100\n",
      "15/15 [==============================] - 24s 2s/step - loss: 0.2333 - accuracy: 0.9187 - val_loss: 0.4688 - val_accuracy: 0.8199\n",
      "Epoch 43/100\n",
      "15/15 [==============================] - 191s 13s/step - loss: 0.2772 - accuracy: 0.9000 - val_loss: 0.5368 - val_accuracy: 0.8150\n",
      "Epoch 44/100\n",
      "15/15 [==============================] - 58s 4s/step - loss: 0.2638 - accuracy: 0.9167 - val_loss: 0.4751 - val_accuracy: 0.8237\n",
      "Epoch 45/100\n",
      "15/15 [==============================] - 23s 2s/step - loss: 0.2925 - accuracy: 0.9208 - val_loss: 0.4767 - val_accuracy: 0.8036\n",
      "Epoch 46/100\n",
      "15/15 [==============================] - 22s 1s/step - loss: 0.1873 - accuracy: 0.9417 - val_loss: 0.3955 - val_accuracy: 0.8211\n",
      "Epoch 47/100\n",
      "15/15 [==============================] - 22s 1s/step - loss: 0.2199 - accuracy: 0.9375 - val_loss: 0.5853 - val_accuracy: 0.8266\n",
      "Epoch 48/100\n",
      "15/15 [==============================] - 22s 1s/step - loss: 0.2361 - accuracy: 0.9229 - val_loss: 0.4825 - val_accuracy: 0.8311\n",
      "Epoch 49/100\n",
      "15/15 [==============================] - 22s 1s/step - loss: 0.1720 - accuracy: 0.9521 - val_loss: 0.5913 - val_accuracy: 0.8375\n",
      "Epoch 50/100\n",
      "15/15 [==============================] - 22s 1s/step - loss: 0.1774 - accuracy: 0.9396 - val_loss: 0.3422 - val_accuracy: 0.8267\n",
      "Epoch 51/100\n",
      "15/15 [==============================] - 22s 1s/step - loss: 0.1858 - accuracy: 0.9479 - val_loss: 0.3490 - val_accuracy: 0.8291\n",
      "Epoch 52/100\n",
      "15/15 [==============================] - 22s 1s/step - loss: 0.2602 - accuracy: 0.9146 - val_loss: 0.7219 - val_accuracy: 0.8323\n",
      "Epoch 53/100\n",
      "15/15 [==============================] - 22s 1s/step - loss: 0.1212 - accuracy: 0.9625 - val_loss: 0.5530 - val_accuracy: 0.8427\n",
      "Epoch 54/100\n",
      "15/15 [==============================] - 21s 1s/step - loss: 0.1989 - accuracy: 0.9354 - val_loss: 0.2157 - val_accuracy: 0.8412\n",
      "Epoch 55/100\n"
     ]
    },
    {
     "name": "stdout",
     "output_type": "stream",
     "text": [
      "15/15 [==============================] - 22s 1s/step - loss: 0.2340 - accuracy: 0.9312 - val_loss: 0.6388 - val_accuracy: 0.8427\n",
      "Epoch 56/100\n",
      "15/15 [==============================] - 21s 1s/step - loss: 0.1751 - accuracy: 0.9458 - val_loss: 0.3058 - val_accuracy: 0.8330\n",
      "Epoch 57/100\n",
      "15/15 [==============================] - 21s 1s/step - loss: 0.1874 - accuracy: 0.9417 - val_loss: 0.4199 - val_accuracy: 0.8293\n",
      "Epoch 58/100\n",
      "15/15 [==============================] - 23s 2s/step - loss: 0.2448 - accuracy: 0.9292 - val_loss: 0.4019 - val_accuracy: 0.8402\n",
      "Epoch 59/100\n",
      "15/15 [==============================] - 23s 2s/step - loss: 0.1920 - accuracy: 0.9333 - val_loss: 0.4897 - val_accuracy: 0.8465\n",
      "Epoch 60/100\n",
      "15/15 [==============================] - 24s 2s/step - loss: 0.2038 - accuracy: 0.9458 - val_loss: 0.8587 - val_accuracy: 0.8373\n",
      "Epoch 61/100\n",
      "15/15 [==============================] - 23s 2s/step - loss: 0.2266 - accuracy: 0.9271 - val_loss: 0.4149 - val_accuracy: 0.8385\n",
      "Epoch 62/100\n",
      "15/15 [==============================] - 25s 2s/step - loss: 0.1555 - accuracy: 0.9458 - val_loss: 0.6669 - val_accuracy: 0.8544\n",
      "Epoch 63/100\n",
      "15/15 [==============================] - 23s 2s/step - loss: 0.1366 - accuracy: 0.9604 - val_loss: 0.5206 - val_accuracy: 0.8458\n",
      "Epoch 64/100\n",
      "15/15 [==============================] - 26s 2s/step - loss: 0.1980 - accuracy: 0.9250 - val_loss: 0.5120 - val_accuracy: 0.8521\n",
      "Epoch 65/100\n",
      "15/15 [==============================] - 24s 2s/step - loss: 0.1693 - accuracy: 0.9500 - val_loss: 0.4264 - val_accuracy: 0.8566\n",
      "Epoch 66/100\n",
      "15/15 [==============================] - 24s 2s/step - loss: 0.1277 - accuracy: 0.9521 - val_loss: 0.3365 - val_accuracy: 0.8703\n",
      "Epoch 67/100\n",
      "15/15 [==============================] - 23s 2s/step - loss: 0.1835 - accuracy: 0.9458 - val_loss: 0.4349 - val_accuracy: 0.8891\n",
      "Epoch 68/100\n",
      "15/15 [==============================] - 24s 2s/step - loss: 0.1553 - accuracy: 0.9521 - val_loss: 0.0775 - val_accuracy: 0.8666\n",
      "Epoch 69/100\n",
      "15/15 [==============================] - 24s 2s/step - loss: 0.1396 - accuracy: 0.9625 - val_loss: 0.5493 - val_accuracy: 0.8749\n",
      "Epoch 70/100\n",
      "15/15 [==============================] - 22s 1s/step - loss: 0.1592 - accuracy: 0.9542 - val_loss: 0.2820 - val_accuracy: 0.8551\n",
      "Epoch 71/100\n",
      "15/15 [==============================] - 23s 2s/step - loss: 0.1593 - accuracy: 0.9583 - val_loss: 0.3293 - val_accuracy: 0.8528\n",
      "Epoch 72/100\n",
      "15/15 [==============================] - 23s 2s/step - loss: 0.1535 - accuracy: 0.9479 - val_loss: 0.5714 - val_accuracy: 0.8440\n",
      "Epoch 73/100\n",
      "15/15 [==============================] - 23s 2s/step - loss: 0.1198 - accuracy: 0.9583 - val_loss: 0.4775 - val_accuracy: 0.8491\n",
      "Epoch 74/100\n",
      "15/15 [==============================] - 24s 2s/step - loss: 0.1010 - accuracy: 0.9708 - val_loss: 0.8807 - val_accuracy: 0.8331\n",
      "Epoch 75/100\n",
      "15/15 [==============================] - 23s 2s/step - loss: 0.1114 - accuracy: 0.9625 - val_loss: 0.4561 - val_accuracy: 0.8672\n",
      "Epoch 76/100\n",
      "15/15 [==============================] - 25s 2s/step - loss: 0.1359 - accuracy: 0.9563 - val_loss: 0.3299 - val_accuracy: 0.8524\n",
      "Epoch 77/100\n",
      "15/15 [==============================] - 25s 2s/step - loss: 0.0884 - accuracy: 0.9646 - val_loss: 0.5497 - val_accuracy: 0.8717\n",
      "Epoch 78/100\n",
      "15/15 [==============================] - 23s 2s/step - loss: 0.1699 - accuracy: 0.9521 - val_loss: 1.0892 - val_accuracy: 0.8583\n",
      "Epoch 79/100\n",
      "15/15 [==============================] - 23s 2s/step - loss: 0.1289 - accuracy: 0.9646 - val_loss: 0.6455 - val_accuracy: 0.8515\n",
      "Epoch 80/100\n",
      "15/15 [==============================] - 23s 2s/step - loss: 0.0942 - accuracy: 0.9667 - val_loss: 0.4144 - val_accuracy: 0.8566\n",
      "Epoch 81/100\n",
      "15/15 [==============================] - 24s 2s/step - loss: 0.1422 - accuracy: 0.9604 - val_loss: 0.3901 - val_accuracy: 0.8552\n",
      "Epoch 82/100\n",
      "15/15 [==============================] - 22s 1s/step - loss: 0.1057 - accuracy: 0.9688 - val_loss: 0.5062 - val_accuracy: 0.8482\n",
      "Epoch 83/100\n",
      "15/15 [==============================] - 24s 2s/step - loss: 0.1647 - accuracy: 0.9500 - val_loss: 0.6157 - val_accuracy: 0.8522\n",
      "Epoch 84/100\n",
      "15/15 [==============================] - 23s 2s/step - loss: 0.1327 - accuracy: 0.9542 - val_loss: 0.1737 - val_accuracy: 0.8568\n",
      "Epoch 85/100\n",
      "15/15 [==============================] - 23s 2s/step - loss: 0.1261 - accuracy: 0.9542 - val_loss: 0.0594 - val_accuracy: 0.8535\n",
      "Epoch 86/100\n",
      "15/15 [==============================] - 23s 2s/step - loss: 0.0917 - accuracy: 0.9667 - val_loss: 0.4832 - val_accuracy: 0.8619\n",
      "Epoch 87/100\n",
      "15/15 [==============================] - 23s 2s/step - loss: 0.0760 - accuracy: 0.9750 - val_loss: 0.4213 - val_accuracy: 0.8501\n",
      "Epoch 88/100\n",
      "15/15 [==============================] - 25s 2s/step - loss: 0.1175 - accuracy: 0.9625 - val_loss: 0.7900 - val_accuracy: 0.8525\n",
      "Epoch 89/100\n",
      "15/15 [==============================] - 23s 2s/step - loss: 0.1004 - accuracy: 0.9667 - val_loss: 0.2694 - val_accuracy: 0.8340\n",
      "Epoch 90/100\n",
      "15/15 [==============================] - 23s 2s/step - loss: 0.1220 - accuracy: 0.9563 - val_loss: 0.9201 - val_accuracy: 0.8471\n",
      "Epoch 91/100\n",
      "15/15 [==============================] - 23s 2s/step - loss: 0.0808 - accuracy: 0.9750 - val_loss: 0.3218 - val_accuracy: 0.8554\n",
      "Epoch 92/100\n",
      "15/15 [==============================] - 24s 2s/step - loss: 0.0939 - accuracy: 0.9688 - val_loss: 0.5476 - val_accuracy: 0.8551\n",
      "Epoch 93/100\n",
      "15/15 [==============================] - 22s 1s/step - loss: 0.1035 - accuracy: 0.9646 - val_loss: 0.3109 - val_accuracy: 0.8531\n",
      "Epoch 94/100\n",
      "15/15 [==============================] - 22s 1s/step - loss: 0.0821 - accuracy: 0.9771 - val_loss: 0.6322 - val_accuracy: 0.8561\n",
      "Epoch 95/100\n",
      "15/15 [==============================] - 22s 1s/step - loss: 0.1234 - accuracy: 0.9542 - val_loss: 0.8626 - val_accuracy: 0.8475\n",
      "Epoch 96/100\n",
      "15/15 [==============================] - 22s 1s/step - loss: 0.0890 - accuracy: 0.9718 - val_loss: 0.4408 - val_accuracy: 0.8455\n",
      "Epoch 97/100\n",
      "15/15 [==============================] - 22s 1s/step - loss: 0.0865 - accuracy: 0.9708 - val_loss: 0.4274 - val_accuracy: 0.8531\n",
      "Epoch 98/100\n",
      "15/15 [==============================] - 23s 2s/step - loss: 0.0642 - accuracy: 0.9833 - val_loss: 0.7041 - val_accuracy: 0.8529\n",
      "Epoch 99/100\n",
      "15/15 [==============================] - 22s 1s/step - loss: 0.0922 - accuracy: 0.9708 - val_loss: 0.5529 - val_accuracy: 0.8487\n",
      "Epoch 100/100\n",
      "15/15 [==============================] - 23s 2s/step - loss: 0.0695 - accuracy: 0.9771 - val_loss: 0.4432 - val_accuracy: 0.8646\n"
     ]
    },
    {
     "data": {
      "text/plain": [
       "<keras.callbacks.callbacks.History at 0x2bec124e448>"
      ]
     },
     "execution_count": 22,
     "metadata": {},
     "output_type": "execute_result"
    }
   ],
   "source": [
    "model.fit_generator(x_train,samples_per_epoch=500,epochs=100,validation_data=x_test,nb_val_samples=220)"
   ]
  },
  {
   "cell_type": "code",
   "execution_count": 23,
   "metadata": {},
   "outputs": [],
   "source": [
    "model.save('arr.h5')"
   ]
  },
  {
   "cell_type": "code",
   "execution_count": 24,
   "metadata": {},
   "outputs": [],
   "source": [
    "from keras.models import load_model\n",
    "from keras.preprocessing import image\n",
    "import numpy as np"
   ]
  },
  {
   "cell_type": "code",
   "execution_count": 25,
   "metadata": {},
   "outputs": [],
   "source": [
    "model = load_model(\"arr.h5\")"
   ]
  },
  {
   "cell_type": "code",
   "execution_count": 26,
   "metadata": {},
   "outputs": [],
   "source": [
    "img = image.load_img(\"fig_34.png\",target_size= (64,64))"
   ]
  },
  {
   "cell_type": "code",
   "execution_count": 27,
   "metadata": {},
   "outputs": [],
   "source": [
    "x = image.img_to_array(img)\n",
    "x = np.expand_dims(x,axis = 0)"
   ]
  },
  {
   "cell_type": "code",
   "execution_count": 28,
   "metadata": {},
   "outputs": [
    {
     "data": {
      "text/plain": [
       "(1, 64, 64, 3)"
      ]
     },
     "execution_count": 28,
     "metadata": {},
     "output_type": "execute_result"
    }
   ],
   "source": [
    "x.shape"
   ]
  },
  {
   "cell_type": "code",
   "execution_count": 29,
   "metadata": {},
   "outputs": [],
   "source": [
    "pred = model.predict_classes(x)"
   ]
  },
  {
   "cell_type": "code",
   "execution_count": 33,
   "metadata": {},
   "outputs": [
    {
     "data": {
      "text/plain": [
       "array([1], dtype=int64)"
      ]
     },
     "execution_count": 33,
     "metadata": {},
     "output_type": "execute_result"
    }
   ],
   "source": [
    "pred\n"
   ]
  },
  {
   "cell_type": "code",
   "execution_count": 31,
   "metadata": {},
   "outputs": [
    {
     "name": "stdout",
     "output_type": "stream",
     "text": [
      "{'Left Bundle Branch Block': 0, 'Normal': 1, 'Premature Atrial Contraction': 2, 'Premature Ventricular Contractions': 3, 'Right Bundle Branch Block': 4, 'Ventricular Fibrillation': 5}\n"
     ]
    }
   ],
   "source": [
    "print(x_train.class_indices)"
   ]
  },
  {
   "cell_type": "code",
   "execution_count": null,
   "metadata": {},
   "outputs": [],
   "source": []
  }
 ],
 "metadata": {
  "kernelspec": {
   "display_name": "Python 3",
   "language": "python",
   "name": "python3"
  },
  "language_info": {
   "codemirror_mode": {
    "name": "ipython",
    "version": 3
   },
   "file_extension": ".py",
   "mimetype": "text/x-python",
   "name": "python",
   "nbconvert_exporter": "python",
   "pygments_lexer": "ipython3",
   "version": "3.7.6"
  }
 },
 "nbformat": 4,
 "nbformat_minor": 4
}
